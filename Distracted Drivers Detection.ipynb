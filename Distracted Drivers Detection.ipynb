{
 "cells": [
  {
   "cell_type": "markdown",
   "metadata": {},
   "source": [
    "# Distracted Driver Detection\n",
    "\n",
    "I am Implemented this project on kaggle and it is gives val_acc of 0.9755."
   ]
  },
  {
   "cell_type": "markdown",
   "metadata": {},
   "source": [
    "# Importing Libraries"
   ]
  },
  {
   "cell_type": "code",
   "execution_count": 1,
   "metadata": {
    "_cell_guid": "b1076dfc-b9ad-4769-8c92-a6c4dae69d19",
    "_uuid": "8f2839f25d086af736a60e9eeb907d3b93b6e0e5",
    "execution": {
     "iopub.execute_input": "2022-04-07T10:26:13.744211Z",
     "iopub.status.busy": "2022-04-07T10:26:13.743802Z",
     "iopub.status.idle": "2022-04-07T10:26:15.436045Z",
     "shell.execute_reply": "2022-04-07T10:26:15.435174Z",
     "shell.execute_reply.started": "2022-04-07T10:26:13.744139Z"
    }
   },
   "outputs": [],
   "source": [
    "import os\n",
    "import tensorflow\n",
    "os.environ['KERAS_BACKEND'] = 'tensorflow'\n",
    "os.environ['TF_CPP_MIN_LOG_LEVEL'] = '3' # 3 = INFO, WARNING, and ERROR messages are not printed\n",
    "\n",
    "import numpy as np\n",
    "import pandas as pd\n",
    "import matplotlib.pyplot as plt\n",
    "import warnings\n",
    "warnings.filterwarnings('ignore')\n",
    "\n",
    "from sklearn.model_selection import train_test_split\n",
    "\n",
    "from keras.models import Sequential\n",
    "from keras.layers import Conv2D, MaxPooling2D, Flatten, Dense, Dropout\n",
    "from keras.preprocessing.image import ImageDataGenerator"
   ]
  },
  {
   "cell_type": "markdown",
   "metadata": {},
   "source": [
    "# Import the dataset"
   ]
  },
  {
   "cell_type": "code",
   "execution_count": 2,
   "metadata": {
    "execution": {
     "iopub.execute_input": "2022-04-07T10:26:41.731369Z",
     "iopub.status.busy": "2022-04-07T10:26:41.731080Z",
     "iopub.status.idle": "2022-04-07T10:26:41.785634Z",
     "shell.execute_reply": "2022-04-07T10:26:41.784705Z",
     "shell.execute_reply.started": "2022-04-07T10:26:41.731317Z"
    }
   },
   "outputs": [],
   "source": [
    "dataset = pd.read_csv('../input/driver_imgs_list.csv')\n",
    "dataset.head(5)"
   ]
  },
  {
   "cell_type": "markdown",
   "metadata": {},
   "source": [
    "# Building the model\n",
    "\n",
    "I will develop the model with a total of 3 Convolutional layers, then a Flatten layer and then 3 Dense layers. I'll use the optimizer as **adam**, and loss as **categorical_crossentropy**."
   ]
  },
  {
   "cell_type": "code",
   "execution_count": 3,
   "metadata": {
    "_cell_guid": "79c7e3d0-c299-4dcb-8224-4455121ee9b0",
    "_uuid": "d629ff2d2480ee46fbb7e2d37f6b5fab8052498a",
    "execution": {
     "iopub.execute_input": "2022-04-07T10:28:07.025234Z",
     "iopub.status.busy": "2022-04-07T10:28:07.024922Z",
     "iopub.status.idle": "2022-04-07T10:28:07.185309Z",
     "shell.execute_reply": "2022-04-07T10:28:07.184669Z",
     "shell.execute_reply.started": "2022-04-07T10:28:07.025184Z"
    }
   },
   "outputs": [],
   "source": [
    "classifier = Sequential()\n",
    "classifier.add(Conv2D(filters = 128, kernel_size = (3, 3), activation = 'relu', input_shape = (240, 240, 3), data_format = 'channels_last'))\n",
    "classifier.add(MaxPooling2D(pool_size = (2, 2)))\n",
    "classifier.add(Conv2D(filters = 64, kernel_size = (3, 3), activation = 'relu'))\n",
    "classifier.add(MaxPooling2D(pool_size = (2, 2)))\n",
    "classifier.add(Conv2D(filters = 32, kernel_size = (3, 3), activation = 'relu'))\n",
    "classifier.add(MaxPooling2D(pool_size = (2, 2)))\n",
    "classifier.add(Flatten())\n",
    "classifier.add(Dense(units = 1024, activation = 'relu'))\n",
    "classifier.add(Dense(units = 256, activation = 'relu'))\n",
    "classifier.add(Dense(units = 10, activation = 'sigmoid'))\n",
    "classifier.compile(optimizer = 'adam', loss = 'categorical_crossentropy', metrics = ['accuracy'])\n",
    "classifier.summary()"
   ]
  },
  {
   "cell_type": "markdown",
   "metadata": {},
   "source": [
    "# Creating training data\n",
    "\n",
    "I will generate more images using **ImageDataGenerator** and split the training data into 80% train and 20% validation split."
   ]
  },
  {
   "cell_type": "code",
   "execution_count": 8,
   "metadata": {
    "execution": {
     "iopub.execute_input": "2022-04-07T10:40:25.440318Z",
     "iopub.status.busy": "2022-04-07T10:40:25.440047Z",
     "iopub.status.idle": "2022-04-07T10:40:25.444610Z",
     "shell.execute_reply": "2022-04-07T10:40:25.443779Z",
     "shell.execute_reply.started": "2022-04-07T10:40:25.440269Z"
    }
   },
   "outputs": [],
   "source": [
    "train_datagen = ImageDataGenerator(rescale = 1.0/255, \n",
    "                                   shear_range = 0.2, \n",
    "                                   zoom_range = 0.2, \n",
    "                                   horizontal_flip = True, \n",
    "                                   validation_split = 0.2)"
   ]
  },
  {
   "cell_type": "code",
   "execution_count": 12,
   "metadata": {
    "execution": {
     "iopub.execute_input": "2022-04-07T10:43:11.168924Z",
     "iopub.status.busy": "2022-04-07T10:43:11.168654Z",
     "iopub.status.idle": "2022-04-07T10:43:16.803440Z",
     "shell.execute_reply": "2022-04-07T10:43:16.802769Z",
     "shell.execute_reply.started": "2022-04-07T10:43:11.168878Z"
    }
   },
   "outputs": [],
   "source": [
    "\n",
    "\n",
    "training_set = train_datagen.flow_from_directory('../input/imgs/train', \n",
    "                                                 target_size = (240, 240), \n",
    "                                                 batch_size = 32,\n",
    "                                                 subset = \"training\")\n",
    "\n",
    "validation_set = train_datagen.flow_from_directory('../input/imgs/train', \n",
    "                                                   target_size = (240, 240), \n",
    "                                                   batch_size = 32,\n",
    "                                                   subset = 'validation')"
   ]
  },
  {
   "cell_type": "markdown",
   "metadata": {},
   "source": [
    "# Train the model\n",
    "\n",
    "Using **fit_generator**, I'll train the model."
   ]
  },
  {
   "cell_type": "code",
   "execution_count": 13,
   "metadata": {
    "execution": {
     "iopub.execute_input": "2022-04-07T10:44:04.250893Z",
     "iopub.status.busy": "2022-04-07T10:44:04.250617Z",
     "iopub.status.idle": "2022-04-07T11:48:27.163829Z",
     "shell.execute_reply": "2022-04-07T11:48:27.163157Z",
     "shell.execute_reply.started": "2022-04-07T10:44:04.250848Z"
    }
   },
   "outputs": [],
   "source": [
    "classifier.fit_generator(training_set,\n",
    "                         steps_per_epoch = 17943/32,\n",
    "                         epochs = 10,\n",
    "                         validation_data = validation_set,\n",
    "                         validation_steps = 4481/32)"
   ]
  }
 ],
 "metadata": {
  "kernelspec": {
   "display_name": "Python 3",
   "language": "python",
   "name": "python3"
  },
  "language_info": {
   "codemirror_mode": {
    "name": "ipython",
    "version": 3
   },
   "file_extension": ".py",
   "mimetype": "text/x-python",
   "name": "python",
   "nbconvert_exporter": "python",
   "pygments_lexer": "ipython3",
   "version": "3.8.5"
  }
 },
 "nbformat": 4,
 "nbformat_minor": 4
}
